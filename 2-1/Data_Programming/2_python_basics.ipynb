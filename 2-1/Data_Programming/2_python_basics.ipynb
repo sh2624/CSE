{
  "nbformat": 4,
  "nbformat_minor": 0,
  "metadata": {
    "colab": {
      "provenance": [],
      "include_colab_link": true
    },
    "kernelspec": {
      "name": "python3",
      "display_name": "Python 3"
    },
    "language_info": {
      "name": "python"
    }
  },
  "cells": [
    {
      "cell_type": "markdown",
      "metadata": {
        "id": "view-in-github",
        "colab_type": "text"
      },
      "source": [
        "<a href=\"https://colab.research.google.com/github/sh2624/CSE/blob/main/2_python_basics.ipynb\" target=\"_parent\"><img src=\"https://colab.research.google.com/assets/colab-badge.svg\" alt=\"Open In Colab\"/></a>"
      ]
    },
    {
      "cell_type": "markdown",
      "source": [
        "# 데이터프로그래밍\n",
        "\n",
        "## 실습1: Python Basics\n",
        "\n"
      ],
      "metadata": {
        "id": "snp4duXHfa9X"
      }
    },
    {
      "cell_type": "markdown",
      "source": [
        "### What is Python?\n",
        "*  Python is a popular programming language, created by Guido van Rossum, and released in 1991.\n",
        "* Used for web development (server-side), software development, mathematics, and system scripting\n",
        "\n",
        "### What can Python do?\n",
        "* Python can be used on a server to create web applications.\n",
        "* Python can be used alongside software to create workflows.\n",
        "* Python can connect to database systems. It can also read and modify files.\n",
        "* Python can be used to handle big data and perform complex mathematics.\n",
        "* Python can be used for rapid prototyping, or for production-ready software development.\n",
        "\n",
        "### Why Python?\n",
        "* Python works on **different** platforms (Windows, Mac, Linux, Raspberry Pi, etc).\n",
        "* Python has a **simple** syntax similar to the English language.\n",
        "* Python has syntax that allows developers to write programs with fewer lines than some other programming languages.\n",
        "* Python runs on an **interpreter** system, meaning that code can be executed as soon as it is written. This means that prototyping can be very quick.\n",
        "* Python can be treated in a procedural way, an object-oriented way or a functional way.\n",
        "\n",
        "### Good to know\n",
        "* The most recent major version of Python is **Python 3**. However, **Python 2**, although not being updated with anything other than security updates, is still quite popular.\n",
        "\n",
        "### Python Syntax compared to other programming languages\n",
        "* Python was designed for **readability**, and has some similarities to the English language with influence from mathematics.\n",
        "* Python uses **new lines** to complete a command, as opposed to other programming languages which often use semicolons or parentheses.\n",
        "* Python relies on **indentation**, using whitespace, to define scope; such as the scope of loops, functions and classes. Other programming languages often use curly-brackets for this purpose."
      ],
      "metadata": {
        "id": "ogQOxNjAgzN3"
      }
    },
    {
      "cell_type": "markdown",
      "source": [
        "### Python Quickstart\n",
        "\n",
        "Python is an interpreted programming language, this means that as a developer you write Python (.py) files in a text editor and then put those files into the python interpreter to be executed."
      ],
      "metadata": {
        "id": "cGtdunnliJSj"
      }
    },
    {
      "cell_type": "code",
      "source": [
        "print(\"Hello World!\")"
      ],
      "metadata": {
        "id": "EeCd4SKRiJNP"
      },
      "execution_count": null,
      "outputs": []
    },
    {
      "cell_type": "markdown",
      "source": [
        "### 1. Python Indentation (들여쓰기)\n",
        "\n",
        "Indentation refers to the spaces at the beginning of a code line.\n",
        "\n",
        "Where in **other** programming languages the indentation in code is for **readability only**, the indentation in Python is very **important**."
      ],
      "metadata": {
        "id": "guGkWSNGiJFM"
      }
    },
    {
      "cell_type": "code",
      "source": [
        "if 5 > 2:\n",
        "print(\"Five is greater than two!\")"
      ],
      "metadata": {
        "id": "RlN6zKahiI-B"
      },
      "execution_count": null,
      "outputs": []
    },
    {
      "cell_type": "code",
      "source": [
        "if 5 > 2:\n",
        "  print(\"Five is greater than two!\")"
      ],
      "metadata": {
        "id": "kKfK5z0QqTFW",
        "colab": {
          "base_uri": "https://localhost:8080/"
        },
        "outputId": "4cb43306-e9ab-4db0-b815-550e0636037d"
      },
      "execution_count": null,
      "outputs": [
        {
          "output_type": "stream",
          "name": "stdout",
          "text": [
            "Five is greater than two!\n"
          ]
        }
      ]
    },
    {
      "cell_type": "markdown",
      "source": [
        "The number of spaces is up to you as a programmer, the most common use is **four**, but it has to be **at least one**.\n",
        "\n",
        "들여쓰기는 최소 한 칸 이상 해야 하며, 통상적으로는 4칸임."
      ],
      "metadata": {
        "id": "JPr4KjA5qX0d"
      }
    },
    {
      "cell_type": "code",
      "source": [
        "if 5 > 2:\n",
        " print(\"Five is greater than two!\")\n",
        "if 5 > 2:\n",
        "        print(\"Five is greater than two!\")"
      ],
      "metadata": {
        "id": "9ih0PvQinycr"
      },
      "execution_count": null,
      "outputs": []
    },
    {
      "cell_type": "code",
      "source": [
        "if 5 > 2:\n",
        " print(\"Five is greater than two!\")\n",
        "        print(\"Five is greater than two!\")"
      ],
      "metadata": {
        "id": "wGSsIhlNqS9c"
      },
      "execution_count": null,
      "outputs": []
    },
    {
      "cell_type": "markdown",
      "source": [
        "### 2. Python Comments (주석)\n",
        "\n",
        "* Comments can be used to **explain** Python code.\n",
        "* Comments can be used to make the code more **readable**.\n",
        "* Comments can be used to **prevent** execution when testing code."
      ],
      "metadata": {
        "id": "s9_hxfc3qegs"
      }
    },
    {
      "cell_type": "markdown",
      "source": [
        "Comments starts with a `#`, and Python will ignore them:"
      ],
      "metadata": {
        "id": "dLBY89w9s_qL"
      }
    },
    {
      "cell_type": "code",
      "source": [
        "# This is a comment\n",
        "print(\"Hello World!\")"
      ],
      "metadata": {
        "id": "zX23vtiOszow"
      },
      "execution_count": null,
      "outputs": []
    },
    {
      "cell_type": "markdown",
      "source": [
        "Comments can be placed at the end of a line, and Python will ignore the rest of the line:"
      ],
      "metadata": {
        "id": "ssu20XJ9tBIp"
      }
    },
    {
      "cell_type": "code",
      "source": [
        "print(\"Hello, World!\") #This is a comment"
      ],
      "metadata": {
        "id": "83uZmGdeszmS"
      },
      "execution_count": null,
      "outputs": []
    },
    {
      "cell_type": "markdown",
      "source": [
        "A comment does not have to be text that explains the code, it can also be used to prevent Python from executing code:"
      ],
      "metadata": {
        "id": "HEnm4QzltEmi"
      }
    },
    {
      "cell_type": "code",
      "source": [
        "#print(\"Hello, World!\")\n",
        "print(\"Cheers, Mate!\")"
      ],
      "metadata": {
        "id": "L_CZGhCXszb1"
      },
      "execution_count": null,
      "outputs": []
    },
    {
      "cell_type": "markdown",
      "source": [
        "Python does not really have a syntax for multiline comments.\n",
        "To add a multiline comment you could insert a `#` for each line or use **ctrl + /**:"
      ],
      "metadata": {
        "id": "Vsr-EbAytLcZ"
      }
    },
    {
      "cell_type": "code",
      "source": [
        "#This is a comment\n",
        "#written in\n",
        "#more than just one line\n",
        "print(\"Hello, World!\")"
      ],
      "metadata": {
        "id": "nG6F62LPtLpu"
      },
      "execution_count": null,
      "outputs": []
    },
    {
      "cell_type": "markdown",
      "source": [
        "Or, not quite as intended, you can use a **multiline string**.\n",
        "\n",
        "Since Python will ignore string literals that are not assigned to a variable, you can add a multiline string (triple quotes) in your code, and place your comment inside it:"
      ],
      "metadata": {
        "id": "c91jibcRtVXk"
      }
    },
    {
      "cell_type": "code",
      "source": [
        "\"\"\"\n",
        "This is a comment\n",
        "written in\n",
        "more than just one line\n",
        "\"\"\"\n",
        "print(\"Hello, World!\")"
      ],
      "metadata": {
        "id": "mTU3iW9CtQsV"
      },
      "execution_count": null,
      "outputs": []
    },
    {
      "cell_type": "markdown",
      "source": [
        "### 3. Python Variables (변수)\n",
        "\n",
        "Variables are containers for storing data values.\n",
        "A variable is created the moment you first assign a value to it."
      ],
      "metadata": {
        "id": "yiGxSPs3uZv0"
      }
    },
    {
      "cell_type": "code",
      "source": [
        "x = 5\n",
        "y = \"John\"\n",
        "print(x)\n",
        "print(y)"
      ],
      "metadata": {
        "id": "VqunLSRsuaSl"
      },
      "execution_count": null,
      "outputs": []
    },
    {
      "cell_type": "code",
      "source": [
        "x = 4       # x is of type int\n",
        "x = \"Sally\" # x is now of type str\n",
        "print(x)"
      ],
      "metadata": {
        "id": "3YKFcGD3ua4J",
        "colab": {
          "base_uri": "https://localhost:8080/"
        },
        "outputId": "96be1c10-77ca-49bc-f0dd-b2f4f89f2b03"
      },
      "execution_count": null,
      "outputs": [
        {
          "output_type": "stream",
          "name": "stdout",
          "text": [
            "Sally\n"
          ]
        }
      ]
    },
    {
      "cell_type": "code",
      "source": [
        "x = str(3)    # x will be '3'\n",
        "y = int(3)    # y will be 3\n",
        "z = float(3)  # z will be 3.0"
      ],
      "metadata": {
        "id": "dE4GnNUouayC"
      },
      "execution_count": null,
      "outputs": []
    },
    {
      "cell_type": "markdown",
      "source": [
        "### 4. Python Data Types (자료형)\n",
        "\n",
        "Built-in data types\n",
        "In programming, data type is an important concept.\n",
        "\n",
        "Variables can store data of different types, and different types can do different things.\n",
        "\n",
        "Python has the following data types built-in by default, in these categories:\n",
        "\n",
        "* Text Type:\t`str`\n",
        "* Numeric Types:\t`int`, `float`, `complex`\n",
        "* Sequence Types:\t`list`, `tuple`, `range`\n",
        "* Mapping Type:\t`dict`\n",
        "* Set Types:\t`set`, `frozenset`\n",
        "* Boolean Type:\t`bool`\n",
        "* Binary Types:\t`bytes`, `bytearray`, `memoryview`\n",
        "* None Type:\t`NoneType`"
      ],
      "metadata": {
        "id": "UF58wUY8ubRR"
      }
    },
    {
      "cell_type": "markdown",
      "source": [
        "You can get the data type of any object by using the `type()` function:"
      ],
      "metadata": {
        "id": "iiNicI5axA-o"
      }
    },
    {
      "cell_type": "code",
      "source": [
        "x = 5\n",
        "print(type(x))"
      ],
      "metadata": {
        "id": "PF476nvEub76"
      },
      "execution_count": null,
      "outputs": []
    },
    {
      "cell_type": "markdown",
      "source": [
        "### 5. Python Numbers (정수, 실수, 복소수)\n",
        "\n",
        "There are three numeric types in Python"
      ],
      "metadata": {
        "id": "1I3IIaQDucYV"
      }
    },
    {
      "cell_type": "code",
      "source": [
        "x = 1    # int\n",
        "y = 2.8  # float\n",
        "z = 1j   # complex"
      ],
      "metadata": {
        "id": "HSzVjWoyucq_"
      },
      "execution_count": null,
      "outputs": []
    },
    {
      "cell_type": "markdown",
      "source": [
        "### 6. Casting (형변환)\n",
        "\n",
        "Casting in python is therefore done using constructor functions:\n",
        "\n",
        "* `int()` - constructs an integer number from an integer literal, a float literal (by removing all decimals), or a string literal (providing the string represents a whole number)\n",
        "* `float()` - constructs a float number from an integer literal, a float literal or a string literal (providing the string represents a float or an integer)\n",
        "* `str()` - constructs a string from a wide variety of data types, including strings, integer literals and float literals\n"
      ],
      "metadata": {
        "id": "c4r6syWuxvBu"
      }
    },
    {
      "cell_type": "code",
      "source": [
        "# Convert x into integer\n",
        "x = 1\n",
        "x = int(x)\n",
        "\n",
        "# Convert y into integer\n",
        "y = 2.8\n",
        "y = int(y)\n",
        "\n",
        "# Convert z into integer\n",
        "z = \"3\"\n",
        "z = int(z)\n",
        "\n",
        "print(x, y, z)"
      ],
      "metadata": {
        "id": "tXx7UwXQxv60",
        "colab": {
          "base_uri": "https://localhost:8080/"
        },
        "outputId": "441c5561-1c78-4e19-92d4-ecb9e3aefe5a"
      },
      "execution_count": null,
      "outputs": [
        {
          "output_type": "stream",
          "name": "stdout",
          "text": [
            "1 2 3\n"
          ]
        }
      ]
    },
    {
      "cell_type": "code",
      "source": [
        "# Convert x into float\n",
        "x = 1\n",
        "x = float(x)\n",
        "\n",
        "# Convert y into float\n",
        "y = 2.8\n",
        "y = float(y)\n",
        "\n",
        "# Convert z into float\n",
        "z = \"3\"\n",
        "z = float(z)\n",
        "\n",
        "# Convert w into float\n",
        "w = \"4.2\"\n",
        "w = float(w)\n",
        "\n",
        "print(x, y, z, w)"
      ],
      "metadata": {
        "id": "fUAbuBDgxvf-",
        "colab": {
          "base_uri": "https://localhost:8080/"
        },
        "outputId": "8fd64420-1ef4-4f21-b109-418f7e6babca"
      },
      "execution_count": null,
      "outputs": [
        {
          "output_type": "stream",
          "name": "stdout",
          "text": [
            "1.0 2.8 3.0 4.2\n"
          ]
        }
      ]
    },
    {
      "cell_type": "code",
      "source": [
        "# Convert x into string\n",
        "x = \"s1\"\n",
        "x = str(x)\n",
        "\n",
        "# Convert y into string\n",
        "y = 2\n",
        "y = str(y)\n",
        "\n",
        "# Convert z into string\n",
        "z = 3.0\n",
        "z = str(z)\n",
        "\n",
        "print(x, y, z)"
      ],
      "metadata": {
        "id": "smmjpsW-xvWc",
        "colab": {
          "base_uri": "https://localhost:8080/"
        },
        "outputId": "8122d17c-20fd-4f9b-f129-f3c85f9f1f53"
      },
      "execution_count": null,
      "outputs": [
        {
          "output_type": "stream",
          "name": "stdout",
          "text": [
            "s1 2 3.0\n"
          ]
        }
      ]
    },
    {
      "cell_type": "markdown",
      "source": [
        "### 7.1. String: slicing (문자열 슬라이싱)\n",
        "\n",
        "You can return a range of characters by using the slice syntax.\n",
        "\n",
        "Specify the start index and the end index, separated by a colon, to return a part of the string."
      ],
      "metadata": {
        "id": "OAVsOF60zvbd"
      }
    },
    {
      "cell_type": "code",
      "source": [
        "# Get the characters from position 2 to position 5 (5는 포함되지 않음(b[2], b[3], b[4] 출력))\n",
        "b = \"Hello, World!\"\n",
        "print(b[2:5])"
      ],
      "metadata": {
        "id": "AeZWvRjLzvy_",
        "colab": {
          "base_uri": "https://localhost:8080/"
        },
        "outputId": "c5ae7e22-114b-493a-f36f-5c7e2832a411"
      },
      "execution_count": null,
      "outputs": [
        {
          "output_type": "stream",
          "name": "stdout",
          "text": [
            "llo\n"
          ]
        }
      ]
    },
    {
      "cell_type": "code",
      "source": [
        "# Get the characters from the start to position 5 (not included):\n",
        "b = \"Hello, World!\"\n",
        "print(b[:5])"
      ],
      "metadata": {
        "id": "VHmOGAIQzwFY",
        "colab": {
          "base_uri": "https://localhost:8080/"
        },
        "outputId": "3a88e1bc-ed31-4ae1-c292-1070b7909d13"
      },
      "execution_count": null,
      "outputs": [
        {
          "output_type": "stream",
          "name": "stdout",
          "text": [
            "Hello\n"
          ]
        }
      ]
    },
    {
      "cell_type": "markdown",
      "source": [
        "### 7.2 String: modify strings (문자열 수정)\n",
        "\n",
        "Python has a set of built-in methods that you can use on strings.\n",
        "* The `upper()` method returns the string in upper case\n",
        "* The `lower()` method returns the string in lower case\n",
        "* The `strip()` method removes any whitespace from the beginning or the end"
      ],
      "metadata": {
        "id": "Xkn4TUKzz63N"
      }
    },
    {
      "cell_type": "code",
      "source": [
        "# Make the string in upper case (대문자로)\n",
        "a = \"Hello, World!\"\n",
        "print(a.upper())"
      ],
      "metadata": {
        "id": "9n2kkajgz779",
        "colab": {
          "base_uri": "https://localhost:8080/"
        },
        "outputId": "d25bca1f-064e-4e5c-c778-1a7943de63b2"
      },
      "execution_count": null,
      "outputs": [
        {
          "output_type": "stream",
          "name": "stdout",
          "text": [
            "HELLO, WORLD!\n"
          ]
        }
      ]
    },
    {
      "cell_type": "code",
      "source": [
        "# Make the string in lower case (소문자로)\n",
        "a = \"Hello, World!\"\n",
        "print(a.lower())"
      ],
      "metadata": {
        "id": "VKTQEPhOz7Fw",
        "colab": {
          "base_uri": "https://localhost:8080/"
        },
        "outputId": "6712efb0-e6a4-4403-ec63-10749626286b"
      },
      "execution_count": null,
      "outputs": [
        {
          "output_type": "stream",
          "name": "stdout",
          "text": [
            "hello, world!\n"
          ]
        }
      ]
    },
    {
      "cell_type": "code",
      "source": [
        "# Remove any whitespace from the string (앞뒤 공백 제거)\n",
        "a = \" Hello, World! \"\n",
        "print(a.strip())"
      ],
      "metadata": {
        "id": "AETdiu3I1HBH",
        "colab": {
          "base_uri": "https://localhost:8080/"
        },
        "outputId": "279a6c2e-7fe8-49a6-d723-0660a7d3a0a4"
      },
      "execution_count": null,
      "outputs": [
        {
          "output_type": "stream",
          "name": "stdout",
          "text": [
            "Hello, World!\n"
          ]
        }
      ]
    },
    {
      "cell_type": "markdown",
      "source": [
        "### 7.3 String: concatenation (문자열 연결)\n",
        "\n",
        "To concatenate, or combine, two strings you can use the `+` operator."
      ],
      "metadata": {
        "id": "LTTg-1tV1Ld4"
      }
    },
    {
      "cell_type": "code",
      "source": [
        "# Merge variable a with variable b into variable c:\n",
        "a = \"Hello\"\n",
        "b = \"World\"\n",
        "c = a + b\n",
        "print(c)"
      ],
      "metadata": {
        "id": "t6QLi_X41LyH",
        "colab": {
          "base_uri": "https://localhost:8080/"
        },
        "outputId": "6cb1613c-30fa-4a8b-c561-afb5a26c1bf4"
      },
      "execution_count": null,
      "outputs": [
        {
          "output_type": "stream",
          "name": "stdout",
          "text": [
            "HelloWorld\n"
          ]
        }
      ]
    },
    {
      "cell_type": "code",
      "source": [
        "# To add a space between them, add a \" \":\n",
        "a = \"Hello\"\n",
        "b = \"World\"\n",
        "c = a + ', ' + b\n",
        "print(c)"
      ],
      "metadata": {
        "id": "ppKeKn_e1Mcw",
        "colab": {
          "base_uri": "https://localhost:8080/"
        },
        "outputId": "58a95e03-91cf-40da-d914-85d42a9ca46f"
      },
      "execution_count": null,
      "outputs": [
        {
          "output_type": "stream",
          "name": "stdout",
          "text": [
            "Hello, World\n"
          ]
        }
      ]
    },
    {
      "cell_type": "markdown",
      "source": [
        "### 7.4 String: format (문자열-다른 자료형 연결)\n",
        "\n",
        "As we learned in the Python Variables chapter, we cannot combine strings and numbers.\n",
        "\n",
        "But we can combine strings and numbers by using the `format()` method!\n",
        "\n",
        "The `format()` method takes the passed arguments, formats them, and places them in the string where the placeholders `{}` are:"
      ],
      "metadata": {
        "id": "Veugoo3q1ZKW"
      }
    },
    {
      "cell_type": "code",
      "source": [
        "age = 36\n",
        "txt = \"My name is John, and I am {}\" # {}: placeholder\n",
        "print(txt.format(age))"
      ],
      "metadata": {
        "id": "PeXvH1K81aA4",
        "colab": {
          "base_uri": "https://localhost:8080/"
        },
        "outputId": "b190fc9a-09d2-4e16-9c8c-8795586fe912"
      },
      "execution_count": null,
      "outputs": [
        {
          "output_type": "stream",
          "name": "stdout",
          "text": [
            "My name is John, and I am 36\n"
          ]
        }
      ]
    },
    {
      "cell_type": "code",
      "source": [
        "quantity = 3\n",
        "itemno = 567\n",
        "price = 49.95\n",
        "myorder = \"I want {} pieces of item {} for {} dollars.\"\n",
        "print(myorder.format(quantity, itemno, price))"
      ],
      "metadata": {
        "id": "X9UzmveB1Z43",
        "colab": {
          "base_uri": "https://localhost:8080/"
        },
        "outputId": "3b735f94-bd67-44bd-c457-b2c47a177bc4"
      },
      "execution_count": null,
      "outputs": [
        {
          "output_type": "stream",
          "name": "stdout",
          "text": [
            "I want 3 pieces of item 567 for 49.95 dollars.\n"
          ]
        }
      ]
    },
    {
      "cell_type": "code",
      "source": [
        "quantity = 3\n",
        "itemno = 567\n",
        "price = 49.95\n",
        "myorder = \"I want to pay {2} dollars for {0} pieces of item {1}.\"\n",
        "print(myorder.format(quantity, itemno, price))"
      ],
      "metadata": {
        "id": "QjAW7LfK1Zug",
        "colab": {
          "base_uri": "https://localhost:8080/"
        },
        "outputId": "cb2b37eb-334b-48f0-e735-efd9dd67a32a"
      },
      "execution_count": null,
      "outputs": [
        {
          "output_type": "stream",
          "name": "stdout",
          "text": [
            "I want to pay 49.95 dollars for 3 pieces of item 567.\n"
          ]
        }
      ]
    },
    {
      "cell_type": "markdown",
      "source": [
        "### 8.1 Operators: arithmetic (연산자)\n",
        "\n",
        "Arithmetic operators are used with numeric values to perform common mathematical operations:"
      ],
      "metadata": {
        "id": "ZFGWi4Rj2xo1"
      }
    },
    {
      "cell_type": "code",
      "source": [
        "x = 5\n",
        "y = 3\n",
        "\n",
        "# addition, +\n",
        "print(x + y)\n",
        "\n",
        "# subtraction, -\n",
        "print(x - y)\n",
        "\n",
        "# multiplication, *\n",
        "print(x * y)\n",
        "\n",
        "# division, /\n",
        "print(x / y)\n",
        "\n",
        "# modulus, %\n",
        "print(x % y)\n",
        "\n",
        "# exponentiation, **\n",
        "print(x ** y)\n",
        "\n",
        "# floor division, //\n",
        "print(x // y) #the floor division // rounds the result down to the nearest whole number"
      ],
      "metadata": {
        "id": "b6cm6VFs289b",
        "colab": {
          "base_uri": "https://localhost:8080/"
        },
        "outputId": "4f538a74-e29f-4b89-c645-1bf24cf07ca3"
      },
      "execution_count": null,
      "outputs": [
        {
          "output_type": "stream",
          "name": "stdout",
          "text": [
            "8\n",
            "2\n",
            "15\n",
            "1.6666666666666667\n",
            "2\n",
            "125\n",
            "1\n"
          ]
        }
      ]
    },
    {
      "cell_type": "markdown",
      "source": [
        "### 8.2 Operators: assignment (연산자 생략)\n",
        "\n",
        "Assignment operators are used to assign values to variables:"
      ],
      "metadata": {
        "id": "5nGz4Em-29Tl"
      }
    },
    {
      "cell_type": "code",
      "source": [
        "x = 5\n",
        "print(x)\n",
        "\n",
        "# x = x + 3\n",
        "x += 3\n",
        "print(x)\n",
        "\n",
        "# x = x - 3\n",
        "x -= 3\n",
        "print(x)\n",
        "\n",
        "# x = x * 3\n",
        "x *= 3\n",
        "print(x)\n",
        "\n",
        "# x = x / 3\n",
        "x /= 3\n",
        "print(x)"
      ],
      "metadata": {
        "id": "fzrlZmzM29q4",
        "colab": {
          "base_uri": "https://localhost:8080/"
        },
        "outputId": "a8325ca7-00f1-4944-b8be-2180975ffacb"
      },
      "execution_count": null,
      "outputs": [
        {
          "output_type": "stream",
          "name": "stdout",
          "text": [
            "5\n",
            "8\n",
            "5\n",
            "15\n",
            "5.0\n"
          ]
        }
      ]
    },
    {
      "cell_type": "markdown",
      "source": [
        "### 9. List (배열(순서 O))\n",
        "A list is the Python equivalent of an array, but is resizeable and can contain elements of different types"
      ],
      "metadata": {
        "id": "tF1s4YuoBfhQ"
      }
    },
    {
      "cell_type": "code",
      "source": [
        "xs = [3, 1, 2]\n",
        "\n",
        "# Print the last indice\n",
        "# Negative indices count from the end of the list (-1 인덱스는 배열의 맨 끝)\n",
        "print(xs[-1])"
      ],
      "metadata": {
        "id": "LMu05ix-BlC4",
        "colab": {
          "base_uri": "https://localhost:8080/"
        },
        "outputId": "32d9974d-6bb0-4587-b0cd-c527cf8ef9d8"
      },
      "execution_count": null,
      "outputs": [
        {
          "output_type": "stream",
          "name": "stdout",
          "text": [
            "2\n"
          ]
        }
      ]
    },
    {
      "cell_type": "code",
      "source": [
        "# Add a new element to the end of the list (배열의 끝에 요소 추가)\n",
        "xs.append('bar')\n",
        "print(xs)"
      ],
      "metadata": {
        "id": "3SBjI1XhBpe4",
        "colab": {
          "base_uri": "https://localhost:8080/"
        },
        "outputId": "320a02ff-5805-4ec6-bd9d-ec7c98106b47"
      },
      "execution_count": null,
      "outputs": [
        {
          "output_type": "stream",
          "name": "stdout",
          "text": [
            "[3, 1, 2, 'bar']\n"
          ]
        }
      ]
    },
    {
      "cell_type": "code",
      "source": [
        "# Remove and return the last element of the list (배열의 끝 요소 제거)\n",
        "x = xs.pop()\n",
        "print(xs)"
      ],
      "metadata": {
        "id": "XA0KdSR0Bqna",
        "colab": {
          "base_uri": "https://localhost:8080/"
        },
        "outputId": "24f58158-aee8-49d8-fecf-9e67c5df7c0b"
      },
      "execution_count": null,
      "outputs": [
        {
          "output_type": "stream",
          "name": "stdout",
          "text": [
            "[3, 1, 2]\n"
          ]
        }
      ]
    },
    {
      "cell_type": "code",
      "source": [
        "# Create a list containing [0, 1, 2, 3, 4, 5]\n",
        "# range is a built-in function that creates a list of integers\n",
        "nums = list(range(6))\n",
        "print(nums)"
      ],
      "metadata": {
        "id": "HMWqcviMBquk",
        "colab": {
          "base_uri": "https://localhost:8080/"
        },
        "outputId": "b53a5cc8-3cc9-4b3c-9f25-b8c02eb9fe71"
      },
      "execution_count": null,
      "outputs": [
        {
          "output_type": "stream",
          "name": "stdout",
          "text": [
            "[0, 1, 2, 3, 4, 5]\n"
          ]
        }
      ]
    },
    {
      "cell_type": "code",
      "source": [
        "# Get a slice from index 2 to 4 (exclusive); prints \"[2, 3]\"\n",
        "print(nums[2:4])"
      ],
      "metadata": {
        "id": "Kg4nlw6bBqxD",
        "colab": {
          "base_uri": "https://localhost:8080/"
        },
        "outputId": "a00a9992-5d4f-45e3-bd5c-486168ea1f39"
      },
      "execution_count": null,
      "outputs": [
        {
          "output_type": "stream",
          "name": "stdout",
          "text": [
            "[2, 3]\n"
          ]
        }
      ]
    },
    {
      "cell_type": "code",
      "source": [
        "# Get a slice from index 2 to the end; prints \"[2, 3, 4]\"\n",
        "print(nums[2:])"
      ],
      "metadata": {
        "id": "YLoCMFVcBqzt",
        "colab": {
          "base_uri": "https://localhost:8080/"
        },
        "outputId": "5f2af6a8-49b9-416b-f8fb-98bd8d14e5be"
      },
      "execution_count": null,
      "outputs": [
        {
          "output_type": "stream",
          "name": "stdout",
          "text": [
            "[2, 3, 4, 5]\n"
          ]
        }
      ]
    },
    {
      "cell_type": "code",
      "source": [
        "# Get a slice from the start to index 2 (exclusive); prints \"[0, 1]\"\n",
        "print(nums[:2])"
      ],
      "metadata": {
        "id": "AT0oGlvABq12",
        "colab": {
          "base_uri": "https://localhost:8080/"
        },
        "outputId": "78534415-5c65-414b-be31-006c29250e56"
      },
      "execution_count": null,
      "outputs": [
        {
          "output_type": "stream",
          "name": "stdout",
          "text": [
            "[0, 1]\n"
          ]
        }
      ]
    },
    {
      "cell_type": "code",
      "source": [
        "# Get a slice of the whole list; prints [\"0, 1, 2, 3, 4]\"\n",
        "print(nums)"
      ],
      "metadata": {
        "id": "EZ-rBb4QBvB-",
        "colab": {
          "base_uri": "https://localhost:8080/"
        },
        "outputId": "1694f34f-1f66-4b98-86dd-610d8378aa54"
      },
      "execution_count": null,
      "outputs": [
        {
          "output_type": "stream",
          "name": "stdout",
          "text": [
            "[0, 1, 2, 3, 4, 5]\n"
          ]
        }
      ]
    },
    {
      "cell_type": "code",
      "source": [
        "# Assign a new sublist to a slice; change nums into [0, 1, 8, 9, 4]\n",
        "nums[2:4] = [8, 9]\n",
        "print(nums)"
      ],
      "metadata": {
        "id": "GoIQcfHoBvEW",
        "colab": {
          "base_uri": "https://localhost:8080/"
        },
        "outputId": "d948cda8-ed6c-4c27-af41-c6126f83b18c"
      },
      "execution_count": null,
      "outputs": [
        {
          "output_type": "stream",
          "name": "stdout",
          "text": [
            "[0, 1, 8, 9, 4, 5]\n"
          ]
        }
      ]
    },
    {
      "cell_type": "code",
      "source": [
        "animals = ['cat', 'dog', 'monkey']\n",
        "\n",
        "# Loop over and print the elements of the list:\n",
        "for x in animals:\n",
        "  print(x)"
      ],
      "metadata": {
        "id": "mdHbz6gXBvG1",
        "colab": {
          "base_uri": "https://localhost:8080/"
        },
        "outputId": "2b4a7336-7994-4bed-eab3-5bd739223c5b"
      },
      "execution_count": 6,
      "outputs": [
        {
          "output_type": "stream",
          "name": "stdout",
          "text": [
            "cat\n",
            "dog\n",
            "monkey\n"
          ]
        }
      ]
    },
    {
      "cell_type": "code",
      "source": [
        "# Put square values of nums in squares list\n",
        "nums = [0, 1, 2, 3, 4]\n",
        "squares = []\n",
        "for x in nums:\n",
        "  squares.append(x**2)\n",
        "print(squares)"
      ],
      "metadata": {
        "id": "s-hZw8g7BvJM",
        "colab": {
          "base_uri": "https://localhost:8080/"
        },
        "outputId": "7dc627a6-af3e-4554-8aa4-c1f0d3ed538a"
      },
      "execution_count": null,
      "outputs": [
        {
          "output_type": "stream",
          "name": "stdout",
          "text": [
            "[0, 1, 4, 9, 16]\n"
          ]
        }
      ]
    },
    {
      "cell_type": "code",
      "source": [
        "# Make this code simpler using a list comprehension\n",
        "squares = [x ** 2 for x in nums]\n",
        "print(squares)"
      ],
      "metadata": {
        "id": "W6YH89wsBvL0",
        "colab": {
          "base_uri": "https://localhost:8080/"
        },
        "outputId": "c35d512d-c753-46a1-e3cf-c4c7bc86cde6"
      },
      "execution_count": null,
      "outputs": [
        {
          "output_type": "stream",
          "name": "stdout",
          "text": [
            "[0, 1, 4, 9, 16]\n"
          ]
        }
      ]
    },
    {
      "cell_type": "code",
      "source": [
        "# Make a list of squares of even numbers in the list\n",
        "# List comprehensions can also contain conditions\n",
        "even_squares = [x ** 2 for x in nums if x % 2 == 0]\n",
        "print(even_squares)"
      ],
      "metadata": {
        "id": "o2NDYta-BvOS",
        "colab": {
          "base_uri": "https://localhost:8080/"
        },
        "outputId": "ec7118bf-e25e-41be-f44a-5e8ecaae2062"
      },
      "execution_count": null,
      "outputs": [
        {
          "output_type": "stream",
          "name": "stdout",
          "text": [
            "[0, 4, 16]\n"
          ]
        }
      ]
    },
    {
      "cell_type": "markdown",
      "source": [
        "### 10. Dictionary (딕셔너리(순서 X))\n",
        "A dictionary stores (`key`, `value`) pairs"
      ],
      "metadata": {
        "id": "MbL6l1JbBlT3"
      }
    },
    {
      "cell_type": "code",
      "source": [
        "# Create a dictionary containing the followings key:value pairs\n",
        "# cat:cute  /  dog:furry\n",
        "d = {\n",
        "        'cat': 'cute',\n",
        "        'dog': 'furry'\n",
        "    }"
      ],
      "metadata": {
        "id": "iawPtaTPBlrn"
      },
      "execution_count": null,
      "outputs": []
    },
    {
      "cell_type": "code",
      "source": [
        "# print an entry 'cat' from a dictionary; prints 'cute'\n",
        "print(d['cat'])"
      ],
      "metadata": {
        "id": "J78BR-PXB7Z7",
        "colab": {
          "base_uri": "https://localhost:8080/"
        },
        "outputId": "5535c6f4-2168-4ad5-c089-277a7f30cfc2"
      },
      "execution_count": null,
      "outputs": [
        {
          "output_type": "stream",
          "name": "stdout",
          "text": [
            "cute\n"
          ]
        }
      ]
    },
    {
      "cell_type": "code",
      "source": [
        "# Add another key:value pair\n",
        "# fish:wet\n",
        "d['fish'] = 'wet'\n",
        "print(d)"
      ],
      "metadata": {
        "id": "GOTRjlpuB7cO",
        "colab": {
          "base_uri": "https://localhost:8080/"
        },
        "outputId": "d61b19db-ab70-497d-b9c1-b326b0d92acf"
      },
      "execution_count": null,
      "outputs": [
        {
          "output_type": "stream",
          "name": "stdout",
          "text": [
            "{'cat': 'cute', 'dog': 'furry', 'fish': 'wet'}\n"
          ]
        }
      ]
    },
    {
      "cell_type": "code",
      "source": [
        "# Get an element with a default; prints \"N/A\" if not exists\n",
        "# fish / monkey\n",
        "print(d.get('fish', \"N/A\"))\n",
        "print(d.get('monkey', \"N/A\"))"
      ],
      "metadata": {
        "id": "p78csY1RB7eW",
        "colab": {
          "base_uri": "https://localhost:8080/"
        },
        "outputId": "620d5091-2e4c-430b-a6c3-2d36aa7db801"
      },
      "execution_count": null,
      "outputs": [
        {
          "output_type": "stream",
          "name": "stdout",
          "text": [
            "wet\n",
            "N/A\n"
          ]
        }
      ]
    },
    {
      "cell_type": "code",
      "source": [
        "# Remove 'fish' from the dictionary\n",
        "del d['fish']\n",
        "print(d)"
      ],
      "metadata": {
        "id": "VPoNnuPYB7gt",
        "colab": {
          "base_uri": "https://localhost:8080/"
        },
        "outputId": "638909ca-b5b5-4a37-b022-86a79f011cf0"
      },
      "execution_count": null,
      "outputs": [
        {
          "output_type": "stream",
          "name": "stdout",
          "text": [
            "{'cat': 'cute', 'dog': 'furry'}\n"
          ]
        }
      ]
    },
    {
      "cell_type": "code",
      "source": [
        "d = {'person': 2, 'cat': 4, 'spider': 8}\n",
        "\n",
        "# Loop over keys of the dictionary\n",
        "# Access the values with the keys\n",
        "for x in d:\n",
        "  legs = d[x]\n",
        "  print(\"A %s has %d legs\" % (x, legs))"
      ],
      "metadata": {
        "id": "e9HZ7wpkB7jh",
        "colab": {
          "base_uri": "https://localhost:8080/"
        },
        "outputId": "5727b87c-2e8c-4d00-be43-cf726330237c"
      },
      "execution_count": null,
      "outputs": [
        {
          "output_type": "stream",
          "name": "stdout",
          "text": [
            "A person has 2 legs\n",
            "A cat has 4 legs\n",
            "A spider has 8 legs\n"
          ]
        }
      ]
    },
    {
      "cell_type": "code",
      "source": [
        "# Make a dictionary of key:squares of even numbers in the list\n",
        "# Dictionary comprehensions can also contain conditions\n",
        "nums = [0, 1, 2, 3, 4]\n",
        "even_num_to_square = {x ** 2 for x in nums if x % 2 == 0}\n",
        "print(even_num_to_square)"
      ],
      "metadata": {
        "id": "Bys5d_ZbB7n_",
        "colab": {
          "base_uri": "https://localhost:8080/"
        },
        "outputId": "853e063f-74b4-4afd-c1ff-ff9fbeac118e"
      },
      "execution_count": null,
      "outputs": [
        {
          "output_type": "stream",
          "name": "stdout",
          "text": [
            "{0, 16, 4}\n"
          ]
        }
      ]
    },
    {
      "cell_type": "markdown",
      "source": [
        "### 11. Function (함수)\n",
        "Python functions are defined using the `def` keyword"
      ],
      "metadata": {
        "id": "QkbXBievBl_u"
      }
    },
    {
      "cell_type": "code",
      "source": [
        "# Define a function called sign with argument <x>\n",
        "# print 'positive' if x > 0\n",
        "# print 'negative' if x < 0\n",
        "# print 'zero' if x = 0\n",
        "def sign(x):\n",
        "  if x > 0:\n",
        "    return 'positive'\n",
        "  elif x < 0:\n",
        "    return 'negative'\n",
        "  else:\n",
        "    return 'zero'\n",
        "\n",
        "for x in [-1, 0, 1]:\n",
        "  print(sign(x))"
      ],
      "metadata": {
        "id": "EJjxva_-Txdh",
        "colab": {
          "base_uri": "https://localhost:8080/"
        },
        "outputId": "7186b4bd-f79e-46ac-c063-7c97a1f5d72f"
      },
      "execution_count": null,
      "outputs": [
        {
          "output_type": "stream",
          "name": "stdout",
          "text": [
            "negative\n",
            "zero\n",
            "positive\n"
          ]
        }
      ]
    },
    {
      "cell_type": "code",
      "source": [
        "# Define a function called hello takes\n",
        "# arguement <name>\n",
        "# optional argument <loud> with default value False\n",
        "# print \"HELLO, [name in large letter]\" if loud = True\n",
        "# print \"HELLO, [name in given form]\" if loud = False\n",
        "def hello(name, loud=False):\n",
        "  if loud == False:\n",
        "    print(\"HELLO,\", name)\n",
        "  else:\n",
        "    print(\"HELLO,\", name.upper())\n",
        "\n",
        "hello('Bob')\n",
        "hello('Fred', loud=True)"
      ],
      "metadata": {
        "id": "XmDPH1_ygkOB",
        "colab": {
          "base_uri": "https://localhost:8080/"
        },
        "outputId": "0ae6fdae-589e-4933-c0ab-8d33f4c6d148"
      },
      "execution_count": 16,
      "outputs": [
        {
          "output_type": "stream",
          "name": "stdout",
          "text": [
            "HELLO, Bob\n",
            "HELLO, FRED\n"
          ]
        }
      ]
    },
    {
      "cell_type": "markdown",
      "source": [
        "### 12. Class (클래스)\n",
        "Python classess are defined using the `class` keyword"
      ],
      "metadata": {
        "id": "UW1oSIZRuPsi"
      }
    },
    {
      "cell_type": "code",
      "source": [
        "# this example would actually be invalid because class definitions cannot be empty\n",
        "class Home:"
      ],
      "metadata": {
        "id": "8Lc5xQdHuRfs"
      },
      "execution_count": null,
      "outputs": []
    },
    {
      "cell_type": "code",
      "source": [
        "class Home:\n",
        "  pass"
      ],
      "metadata": {
        "id": "ihhubEGeuS5P"
      },
      "execution_count": null,
      "outputs": []
    },
    {
      "cell_type": "code",
      "source": [
        "# create a class called `Home` that represents a house\n",
        "# the class should store the following informiation\n",
        "# 1. the number of room sin the house (`rooms`)\n",
        "# 2. the number of stories in the house (`stories`)\n",
        "# set these two values as instance variable\n",
        "class Home:\n",
        "  def __init__(self, rooms, stories):\n",
        "    # instance variables\n",
        "    self.rooms = rooms\n",
        "    self.stories = stories"
      ],
      "metadata": {
        "id": "iptogaZMuTiv"
      },
      "execution_count": 18,
      "outputs": []
    },
    {
      "cell_type": "code",
      "source": [
        "# create an object of the `Home` with 4 rooms and 2 stories\n",
        "my_home = Home(4, 2)\n",
        "\n",
        "print(my_home.rooms)\n",
        "print(my_home.stories)"
      ],
      "metadata": {
        "id": "EeZ5Pcbvu-xA",
        "colab": {
          "base_uri": "https://localhost:8080/"
        },
        "outputId": "939acd5d-98fb-4da3-a7d2-38e5bf6c33f7"
      },
      "execution_count": 19,
      "outputs": [
        {
          "output_type": "stream",
          "name": "stdout",
          "text": [
            "4\n",
            "2\n"
          ]
        }
      ]
    },
    {
      "cell_type": "markdown",
      "source": [
        "Methods are functions define das part of a class. The first parameter for any class method, including dunder methods, is the actual object calling the method, usually called `self`."
      ],
      "metadata": {
        "id": "9kVUwF9mvGAz"
      }
    },
    {
      "cell_type": "code",
      "source": [
        "class Bird:\n",
        "  # class attribute\n",
        "  is_hungry = True\n",
        "\n",
        "  def feed_bird(self, food):\n",
        "    if self.is_hungry:\n",
        "      self.is_hungry = False\n",
        "      print(\"Feeding with {}. Bird fed!\".format(food))\n",
        "    else:\n",
        "      print('Bird already ate.')"
      ],
      "metadata": {
        "id": "sRNIiNZyvHMj"
      },
      "execution_count": null,
      "outputs": []
    },
    {
      "cell_type": "code",
      "source": [
        "# create a `Bird` class\n",
        "sparrow = Bird()\n",
        "\n",
        "# feed_bird with `seeds`\n",
        "sparrow.feed_bird('seeds')\n",
        "\n",
        "# feed_bird with `oats`\n",
        "sparrow.feed_bird('oats')"
      ],
      "metadata": {
        "id": "oImFK1GIvLEk",
        "colab": {
          "base_uri": "https://localhost:8080/"
        },
        "outputId": "4b444916-291b-454b-8a28-4ed0a04dd94b"
      },
      "execution_count": null,
      "outputs": [
        {
          "output_type": "stream",
          "name": "stdout",
          "text": [
            "Feeding with seeds. Bird fed!\n",
            "Bird already ate.\n"
          ]
        }
      ]
    }
  ]
}
