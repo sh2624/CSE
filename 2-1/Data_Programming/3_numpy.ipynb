{
  "nbformat": 4,
  "nbformat_minor": 0,
  "metadata": {
    "colab": {
      "provenance": [],
      "include_colab_link": true
    },
    "kernelspec": {
      "name": "python3",
      "display_name": "Python 3"
    },
    "language_info": {
      "name": "python"
    }
  },
  "cells": [
    {
      "cell_type": "markdown",
      "metadata": {
        "id": "view-in-github",
        "colab_type": "text"
      },
      "source": [
        "<a href=\"https://colab.research.google.com/github/sh2624/CSE/blob/main/3_numpy.ipynb\" target=\"_parent\"><img src=\"https://colab.research.google.com/assets/colab-badge.svg\" alt=\"Open In Colab\"/></a>"
      ]
    },
    {
      "cell_type": "markdown",
      "source": [
        "# 데이터프로그래밍\n",
        "\n",
        "## 실습2: Numpy"
      ],
      "metadata": {
        "id": "Ad3KH2GnL1UA"
      }
    },
    {
      "cell_type": "markdown",
      "source": [
        "NumPy is used to work with arrays. The array object in NumPy is called `ndarray`.\n",
        "\n",
        "We can create a NumPy `ndarray` object by using the `array()` function."
      ],
      "metadata": {
        "id": "jM1DrPlZMCxc"
      }
    },
    {
      "cell_type": "code",
      "source": [
        "import numpy as np\n",
        "\n",
        "print(np.__version__)"
      ],
      "metadata": {
        "id": "BJih1CVZMaBq",
        "colab": {
          "base_uri": "https://localhost:8080/"
        },
        "outputId": "42602ef5-6291-4a4a-e810-d1a09a447e04"
      },
      "execution_count": 1,
      "outputs": [
        {
          "output_type": "stream",
          "name": "stdout",
          "text": [
            "2.0.2\n"
          ]
        }
      ]
    },
    {
      "cell_type": "code",
      "source": [
        "# Create numpy array\n",
        "# https://numpy.org/doc/stable/reference/generated/numpy.array.html\n",
        "arr = np.array([1, 2, 3, 4, 5])\n",
        "\n",
        "print(arr)\n",
        "print(type(arr))"
      ],
      "metadata": {
        "id": "sOEjELSwMa9u",
        "colab": {
          "base_uri": "https://localhost:8080/"
        },
        "outputId": "a5e886a5-d515-43ff-9d89-a180e1e944f1"
      },
      "execution_count": null,
      "outputs": [
        {
          "output_type": "stream",
          "name": "stdout",
          "text": [
            "[1 2 3 4 5]\n",
            "<class 'numpy.ndarray'>\n"
          ]
        }
      ]
    },
    {
      "cell_type": "markdown",
      "source": [
        "#### 0-D Arrays (0차원 배열)\n",
        "\n",
        "0-D arrays, or Scalars, are the elements in an array. Each value in an array is a 0-D array."
      ],
      "metadata": {
        "id": "-db2pu8aMbpK"
      }
    },
    {
      "cell_type": "code",
      "source": [
        "arr = np.array(123)\n",
        "\n",
        "print(arr)\n",
        "print(type(arr))"
      ],
      "metadata": {
        "id": "Zq_WGmjpMcqc",
        "colab": {
          "base_uri": "https://localhost:8080/"
        },
        "outputId": "d0278161-3619-4e7e-e941-30fa7239f9d3"
      },
      "execution_count": null,
      "outputs": [
        {
          "output_type": "stream",
          "name": "stdout",
          "text": [
            "123\n",
            "<class 'numpy.ndarray'>\n"
          ]
        }
      ]
    },
    {
      "cell_type": "markdown",
      "source": [
        "#### 1-D Arrays (1차원 배열)\n",
        "\n",
        "An array that has 0-D arrays as its elements is called uni-dimensional or 1-D array.\n",
        "\n",
        "These are the most common and basic arrays."
      ],
      "metadata": {
        "id": "T6vfLVWfMdnu"
      }
    },
    {
      "cell_type": "code",
      "source": [
        "arr = np.array([1, 2, 3, 4, 5, 6, 7])\n",
        "\n",
        "print(arr)"
      ],
      "metadata": {
        "id": "nJM0jGc4MexL",
        "colab": {
          "base_uri": "https://localhost:8080/"
        },
        "outputId": "4beec705-534b-4464-f79f-4bc18f1ea12f"
      },
      "execution_count": null,
      "outputs": [
        {
          "output_type": "stream",
          "name": "stdout",
          "text": [
            "[1 2 3 4 5 6 7]\n"
          ]
        }
      ]
    },
    {
      "cell_type": "markdown",
      "source": [
        "#### 2-D Arrays (2차원 배열)\n",
        "\n",
        "An array that has 1-D arrays as its elements is called a 2-D array.\n",
        "\n",
        "These are often used to represent matrix or 2nd order tensors."
      ],
      "metadata": {
        "id": "M8MUvup1MhEU"
      }
    },
    {
      "cell_type": "code",
      "source": [
        "arr = np.array([[1, 2, 3], [4, 5, 6]])\n",
        "\n",
        "print(arr)"
      ],
      "metadata": {
        "id": "zSNeZnWXMh7a",
        "colab": {
          "base_uri": "https://localhost:8080/"
        },
        "outputId": "d74f08d2-b0c1-43e6-9382-3dd9f1292d7f"
      },
      "execution_count": null,
      "outputs": [
        {
          "output_type": "stream",
          "name": "stdout",
          "text": [
            "[[1 2 3]\n",
            " [4 5 6]]\n"
          ]
        }
      ]
    },
    {
      "cell_type": "markdown",
      "source": [
        "#### 3-D arrays (3차원 배열)\n",
        "\n",
        "An array that has 2-D arrays (matrices) as its elements is called 3-D array.\n",
        "\n",
        "These are often used to represent a 3rd order tensor."
      ],
      "metadata": {
        "id": "bvz3UobuMs4x"
      }
    },
    {
      "cell_type": "code",
      "source": [
        "arr = np.array([[[1, 2, 3], [4, 5, 6]], [[7, 8, 9], [10, 11, 12]]])\n",
        "\n",
        "print(arr)"
      ],
      "metadata": {
        "id": "NDM2HX8HMuG4",
        "colab": {
          "base_uri": "https://localhost:8080/"
        },
        "outputId": "53d0ac2e-058d-4fe5-a4f8-917e5747b684"
      },
      "execution_count": null,
      "outputs": [
        {
          "output_type": "stream",
          "name": "stdout",
          "text": [
            "[[[ 1  2  3]\n",
            "  [ 4  5  6]]\n",
            "\n",
            " [[ 7  8  9]\n",
            "  [10 11 12]]]\n"
          ]
        }
      ]
    },
    {
      "cell_type": "markdown",
      "source": [
        "### Array creation routines (배열 생성/변형 방법)\n",
        "* Ones and zeros\n",
        "* np.zeros((몇바이, 몇으로)) - 모든 요소를 0으로 채움\n",
        "* np.ones((몇바이, 몇으로)) - 모든 요소를 1로 채움"
      ],
      "metadata": {
        "id": "QIRl5prvMxhX"
      }
    },
    {
      "cell_type": "code",
      "source": [
        "# Create an 2-by-2 array of all zeros\n",
        "# https://numpy.org/doc/stable/reference/generated/numpy.zeros.html\n",
        "a = np.zeros((2, 2), dtype=np.int8)\n",
        "\n",
        "print(a)\n",
        "print(a.shape)"
      ],
      "metadata": {
        "id": "8IdcWak2Wgl6",
        "colab": {
          "base_uri": "https://localhost:8080/"
        },
        "outputId": "179e404e-bb1b-46eb-96cc-5a886428239b"
      },
      "execution_count": null,
      "outputs": [
        {
          "output_type": "stream",
          "name": "stdout",
          "text": [
            "[[0 0]\n",
            " [0 0]]\n",
            "(2, 2)\n"
          ]
        }
      ]
    },
    {
      "cell_type": "code",
      "source": [
        "# Create an 2-by-2 array of all ones\n",
        "# https://numpy.org/doc/stable/reference/generated/numpy.ones.html\n",
        "a = np.ones((2, 2), dtype=np.int8)\n",
        "\n",
        "print(a)\n",
        "print(a.shape)"
      ],
      "metadata": {
        "id": "y5lXMTfzWgoa",
        "colab": {
          "base_uri": "https://localhost:8080/"
        },
        "outputId": "e99c177f-6bd0-4734-c938-3e4b2bb24c26"
      },
      "execution_count": null,
      "outputs": [
        {
          "output_type": "stream",
          "name": "stdout",
          "text": [
            "[[1 1]\n",
            " [1 1]]\n",
            "(2, 2)\n"
          ]
        }
      ]
    },
    {
      "cell_type": "markdown",
      "source": [
        "* np.random.rand(몇바이, 몇으로) - 랜덤 생성\n"
      ],
      "metadata": {
        "id": "t087YkzSdmlX"
      }
    },
    {
      "cell_type": "code",
      "source": [
        "np.random.seed(1)\n",
        "\n",
        "# Create an 2-by-2 array with random numbers\n",
        "# https://numpy.org/doc/stable/reference/random/generated/numpy.random.random.html\n",
        "a = np.random.random((2, 2))\n",
        "\n",
        "print(a)\n",
        "\n",
        "# https://numpy.org/doc/stable/reference/random/generated/numpy.random.rand.html\n",
        "a = np.random.rand(2, 2)\n",
        "\n",
        "print(a)"
      ],
      "metadata": {
        "id": "ntxFubSXWgqq",
        "colab": {
          "base_uri": "https://localhost:8080/"
        },
        "outputId": "0adf99bb-bc30-4d75-9c73-6b6225d6bd86"
      },
      "execution_count": null,
      "outputs": [
        {
          "output_type": "stream",
          "name": "stdout",
          "text": [
            "[[0.95788953 0.53316528]\n",
            " [0.69187711 0.31551563]]\n",
            "[[0.68650093 0.83462567]\n",
            " [0.01828828 0.75014431]]\n"
          ]
        }
      ]
    },
    {
      "cell_type": "markdown",
      "source": [
        "* np.arange(몇부터, 몇까지) - 배열을 쭉 생성해줌 (마지막 인덱스는 포함 X)"
      ],
      "metadata": {
        "id": "eZ5hWg-seMn6"
      }
    },
    {
      "cell_type": "code",
      "source": [
        "# Create an 1-by-6 array with elements 1 to 6\n",
        "a = np.array([1, 2, 3, 4, 5, 6])\n",
        "\n",
        "print(a)\n",
        "print(a.shape)\n",
        "\n",
        "# for i in range(5):\n",
        "  # print(i)\n",
        "# 0, 1, 2, 3, 4\n",
        "\n",
        "# https://numpy.org/doc/stable/reference/generated/numpy.arange.html\n",
        "a = np.arange(1, 7)\n",
        "\n",
        "print(a)\n",
        "print(a.shape)"
      ],
      "metadata": {
        "id": "mwUx4h07WgtO",
        "colab": {
          "base_uri": "https://localhost:8080/"
        },
        "outputId": "af39c550-b7b7-4d80-c2e5-59f2feb53022"
      },
      "execution_count": null,
      "outputs": [
        {
          "output_type": "stream",
          "name": "stdout",
          "text": [
            "[1 2 3 4 5 6]\n",
            "(6,)\n",
            "[1 2 3 4 5 6]\n",
            "(6,)\n"
          ]
        }
      ]
    },
    {
      "cell_type": "markdown",
      "source": [
        "* .reshape(몇바이, 몇으로) - 모양을 만들어줌"
      ],
      "metadata": {
        "id": "AxRaB-kWeXf5"
      }
    },
    {
      "cell_type": "code",
      "source": [
        "# Create a two rows array with elements 1 to 6\n",
        "b = np.array([[1, 2, 3], [4, 5, 6]])\n",
        "\n",
        "print(b)\n",
        "print(b.shape)\n",
        "\n",
        "# https://numpy.org/doc/stable/reference/generated/numpy.arange.html\n",
        "b = np.arange(1, 7).reshape(2, 3)\n",
        "\n",
        "print(b)\n",
        "print(b.shape)"
      ],
      "metadata": {
        "id": "FnDIZ2taWgvM",
        "colab": {
          "base_uri": "https://localhost:8080/"
        },
        "outputId": "eced884f-8413-4dbe-c7fd-da9f58ac8780"
      },
      "execution_count": null,
      "outputs": [
        {
          "output_type": "stream",
          "name": "stdout",
          "text": [
            "[[1 2 3]\n",
            " [4 5 6]]\n",
            "(2, 3)\n",
            "[[1 2 3]\n",
            " [4 5 6]]\n",
            "(2, 3)\n"
          ]
        }
      ]
    },
    {
      "cell_type": "markdown",
      "source": [
        "* np.zeros_like(누구) - 누구랑 똑같은 형태를 만들고 0으로 채워줌"
      ],
      "metadata": {
        "id": "ZSAlu1RzfSHz"
      }
    },
    {
      "cell_type": "code",
      "source": [
        "#  Create an array of zeros with the same shape and type as b\n",
        "# https://numpy.org/doc/stable/reference/generated/numpy.zeros_like.html\n",
        "c = np.zeros_like(b)\n",
        "print(c)"
      ],
      "metadata": {
        "id": "ekvLsQYRWgxq",
        "colab": {
          "base_uri": "https://localhost:8080/"
        },
        "outputId": "e413020e-4e7a-429e-cc44-22462ac25b5f"
      },
      "execution_count": null,
      "outputs": [
        {
          "output_type": "stream",
          "name": "stdout",
          "text": [
            "[[0 0 0]\n",
            " [0 0 0]]\n"
          ]
        }
      ]
    },
    {
      "cell_type": "markdown",
      "source": [
        "* np.ones_like(누구) - 누구랑 똑같은 형태를 만들고 1로 채워줌"
      ],
      "metadata": {
        "id": "5pLm-pBrfaUd"
      }
    },
    {
      "cell_type": "code",
      "source": [
        "# Create an array of ones with the same shape and type as b\n",
        "# https://numpy.org/doc/stable/reference/generated/numpy.ones_like.html\n",
        "d = np.ones_like(b)\n",
        "print(d)\n",
        "\n",
        "d = np.array([1, 1, 1, 1, 1, 1]).reshape(2, 3)\n",
        "print(d)"
      ],
      "metadata": {
        "id": "7V6_RKNw5fz6",
        "colab": {
          "base_uri": "https://localhost:8080/"
        },
        "outputId": "6c620b21-5c35-4460-998f-b810b3489a1b"
      },
      "execution_count": null,
      "outputs": [
        {
          "output_type": "stream",
          "name": "stdout",
          "text": [
            "[[1 1 1]\n",
            " [1 1 1]]\n",
            "[[1 1 1]\n",
            " [1 1 1]]\n"
          ]
        }
      ]
    },
    {
      "cell_type": "markdown",
      "source": [
        "np.full((몇바이, 몇으로), fill_value=몇으로) - 형태를 만들고 fill_value값으로 채워줌"
      ],
      "metadata": {
        "id": "_xVVjbzBfeRn"
      }
    },
    {
      "cell_type": "code",
      "source": [
        "# Create a new array of 2*5 uints, filled with 6.\n",
        "# Use np.full() and np.ones()\n",
        "# https://numpy.org/doc/stable/reference/generated/numpy.full.html\n",
        "# a = np.full(shape=(2, 5), fill_value=6, dtype=np.int8)\n",
        "a = np.full((2, 5), 6)\n",
        "print(a)\n",
        "\n",
        "# https://numpy.org/doc/stable/reference/generated/numpy.ones.html\n",
        "b = np.ones((2, 5), dtype=np.int8) * 6\n",
        "print(b)"
      ],
      "metadata": {
        "id": "uFuNHfvv6jni",
        "colab": {
          "base_uri": "https://localhost:8080/"
        },
        "outputId": "3dff4148-2670-4a23-a5c0-7a8c1b5ba461"
      },
      "execution_count": null,
      "outputs": [
        {
          "output_type": "stream",
          "name": "stdout",
          "text": [
            "[[6 6 6 6 6]\n",
            " [6 6 6 6 6]]\n",
            "[[6 6 6 6 6]\n",
            " [6 6 6 6 6]]\n"
          ]
        }
      ]
    },
    {
      "cell_type": "markdown",
      "source": [
        "### Array from existing data (배열 자료형 변경)"
      ],
      "metadata": {
        "id": "dXoE3QG78BI4"
      }
    },
    {
      "cell_type": "code",
      "source": [
        "# Create an array of [1, 2, 3]\n",
        "a = np.array([1, 2, 3])\n",
        "a = np.arange(1, 4) # [1, 2, 3]\n",
        "print(a)"
      ],
      "metadata": {
        "id": "gKpVs2ZL8GYY",
        "colab": {
          "base_uri": "https://localhost:8080/"
        },
        "outputId": "f3dd6852-8c7f-42fd-df27-dce86175aeba"
      },
      "execution_count": null,
      "outputs": [
        {
          "output_type": "stream",
          "name": "stdout",
          "text": [
            "[1 2 3]\n"
          ]
        }
      ]
    },
    {
      "cell_type": "markdown",
      "source": [
        "* np.asarray(누구) - 타입을 ndarray로 바꿔줌"
      ],
      "metadata": {
        "id": "kx-K58ZqgDon"
      }
    },
    {
      "cell_type": "code",
      "source": [
        "# Let x = [1, 2]. Convert it into an array (asarray)\n",
        "x = [1, 2]\n",
        "x = np.asarray(x)\n",
        "print(x)\n",
        "print(type(x))"
      ],
      "metadata": {
        "id": "EeTozKis8GWL",
        "colab": {
          "base_uri": "https://localhost:8080/"
        },
        "outputId": "5065867f-920b-42ce-fbfd-8e67dfdfa761"
      },
      "execution_count": null,
      "outputs": [
        {
          "output_type": "stream",
          "name": "stdout",
          "text": [
            "[1 2]\n",
            "<class 'numpy.ndarray'>\n"
          ]
        }
      ]
    },
    {
      "cell_type": "markdown",
      "source": [
        "* np.asmatrix(누구) - 타입을 matrix로 바꿔줌"
      ],
      "metadata": {
        "id": "rO4_ZMl5gM0n"
      }
    },
    {
      "cell_type": "code",
      "source": [
        "# Let x = np.array([[1, 2], [3, 4]]). Convert it into a matrix (asmatrix)\n",
        "x = np.array([[1, 2], [3, 4]])\n",
        "x = np.asmatrix(x)\n",
        "print(x)\n",
        "print(type(x))"
      ],
      "metadata": {
        "id": "Ez8gf0QM8GTz",
        "colab": {
          "base_uri": "https://localhost:8080/"
        },
        "outputId": "7513daa1-ad61-47c8-92e5-7da6d11c6753"
      },
      "execution_count": null,
      "outputs": [
        {
          "output_type": "stream",
          "name": "stdout",
          "text": [
            "[[1 2]\n",
            " [3 4]]\n",
            "<class 'numpy.matrix'>\n"
          ]
        }
      ]
    },
    {
      "cell_type": "markdown",
      "source": [
        "* np.asfarray(누구) - 요소들을 float 타입으로 바꿔줌"
      ],
      "metadata": {
        "id": "c5B83wtkge3L"
      }
    },
    {
      "cell_type": "code",
      "source": [
        "# Let x = [1, 2]. Convert it into an array of float (asfarray)\n",
        "# https://numpy.org/doc/stable/reference/generated/numpy.asfarray.html\n",
        "x = [1, 2]\n",
        "# x = np.asfarray(x)\n",
        "x = np.asarray(x)\n",
        "print(x)\n",
        "print(type(x[0]))\n",
        "\n",
        "# https://numpy.org/doc/stable/reference/generated/numpy.asarray.html\n",
        "y = np.asarray(x, dtype=float)\n",
        "print(y)\n",
        "print(type(y[0]))"
      ],
      "metadata": {
        "id": "ippjxPDp8GRv",
        "colab": {
          "base_uri": "https://localhost:8080/"
        },
        "outputId": "4e4c1841-c428-4cc8-bf21-9dea0ce5c0a5"
      },
      "execution_count": null,
      "outputs": [
        {
          "output_type": "stream",
          "name": "stdout",
          "text": [
            "[1 2]\n",
            "<class 'numpy.int64'>\n",
            "[1. 2.]\n",
            "<class 'numpy.float64'>\n"
          ]
        }
      ]
    },
    {
      "cell_type": "code",
      "source": [
        "# Let x = np.array([30]). Convert it into scalar of its single element, i.e. 30 (asscalar)\n",
        "x = np.array([30])\n",
        "# x = np.asscalar(x)  # 지금 버전엔 삭제됨!\n",
        "print(x)"
      ],
      "metadata": {
        "id": "TWTGul1V8o61",
        "colab": {
          "base_uri": "https://localhost:8080/"
        },
        "outputId": "3b05c488-fb96-4fa7-9cab-78aa6983ee5b"
      },
      "execution_count": null,
      "outputs": [
        {
          "output_type": "stream",
          "name": "stdout",
          "text": [
            "[30]\n"
          ]
        }
      ]
    },
    {
      "cell_type": "markdown",
      "source": [
        "### Array indexing (배열 인덱싱)\n",
        "Since arrays may be multidimensional, you must specify a slice for each dimension of the array"
      ],
      "metadata": {
        "id": "ub4HIEsyWzdL"
      }
    },
    {
      "cell_type": "markdown",
      "source": [
        "* np.reshape(몇바이, 몇으로) - 배열 형태를 변경"
      ],
      "metadata": {
        "id": "RBVpLOJvhb2K"
      }
    },
    {
      "cell_type": "code",
      "source": [
        "# Create an 3-by-4 array with elements 1 to 12 (reshape)\n",
        "# a = np.array([1, 2, 3, 4, ...])\n",
        "a = np.arange(1, 13).reshape(3, 4)\n",
        "print(a)"
      ],
      "metadata": {
        "id": "oQuR0SV8Wg4Z",
        "colab": {
          "base_uri": "https://localhost:8080/"
        },
        "outputId": "94e5b8e4-1e1e-421e-c1be-e24e5b80178e"
      },
      "execution_count": null,
      "outputs": [
        {
          "output_type": "stream",
          "name": "stdout",
          "text": [
            "[[ 1  2  3  4]\n",
            " [ 5  6  7  8]\n",
            " [ 9 10 11 12]]\n"
          ]
        }
      ]
    },
    {
      "cell_type": "code",
      "source": [
        "# Use slicing to pull out the subarray consisting of the first 2 rows and columns 1 and 2\n",
        "b = a[:2, 1:3]\n",
        "print(b)"
      ],
      "metadata": {
        "id": "U0gy5ngaW1m3",
        "colab": {
          "base_uri": "https://localhost:8080/"
        },
        "outputId": "0b878376-f1bf-47ae-f9bd-beb10ee2d965"
      },
      "execution_count": null,
      "outputs": [
        {
          "output_type": "stream",
          "name": "stdout",
          "text": [
            "[[2 3]\n",
            " [6 7]]\n"
          ]
        }
      ]
    },
    {
      "cell_type": "code",
      "source": [
        "# From an array, print all rows which sum up to less or equal two\n",
        "x = np.array([[0, 1],  # 1\n",
        "              [1, 1],  # 2\n",
        "              [2, 2]]) # 4\n",
        "print(x)\n",
        "\n",
        "rowsum = x.sum(-1)\n",
        "print(rowsum)\n",
        "print()"
      ],
      "metadata": {
        "id": "l8XnWNUaW1o3",
        "colab": {
          "base_uri": "https://localhost:8080/"
        },
        "outputId": "a4f69a02-c1c9-4fb6-d71d-02bfa433c497"
      },
      "execution_count": null,
      "outputs": [
        {
          "output_type": "stream",
          "name": "stdout",
          "text": [
            "[[0 1]\n",
            " [1 1]\n",
            " [2 2]]\n",
            "[1 2 4]\n",
            "\n"
          ]
        }
      ]
    },
    {
      "cell_type": "markdown",
      "source": [
        "### Array math (배열 연산)\n",
        "Basic mathematical functions operate elementwise on arrays, and are available both as operator overloads and as functions in the numpy module"
      ],
      "metadata": {
        "id": "JrHJvEI2W4Ww"
      }
    },
    {
      "cell_type": "code",
      "source": [
        "x = np.array([[1,2],\n",
        "              [3,4]], dtype=np.float64)\n",
        "y = np.array([[5,6],\n",
        "              [7,8]], dtype=np.float64)\n",
        "\n",
        "# Elementwise product of x and y\n",
        "z = x * y\n",
        "print(z)"
      ],
      "metadata": {
        "id": "2NWvNBGwW1vY",
        "colab": {
          "base_uri": "https://localhost:8080/"
        },
        "outputId": "e066174c-eea8-489d-95f6-6a9332ec72b9"
      },
      "execution_count": 2,
      "outputs": [
        {
          "output_type": "stream",
          "name": "stdout",
          "text": [
            "[[ 5. 12.]\n",
            " [21. 32.]]\n"
          ]
        }
      ]
    },
    {
      "cell_type": "code",
      "source": [
        "# Matrix product of x and y\n",
        "z = np.dot(x, y)\n",
        "print(z)"
      ],
      "metadata": {
        "id": "jlW3dtyxW6aS",
        "colab": {
          "base_uri": "https://localhost:8080/"
        },
        "outputId": "9d80fe36-39e3-44c2-a904-2f8cabb42911"
      },
      "execution_count": 3,
      "outputs": [
        {
          "output_type": "stream",
          "name": "stdout",
          "text": [
            "[[19. 22.]\n",
            " [43. 50.]]\n"
          ]
        }
      ]
    },
    {
      "cell_type": "markdown",
      "source": [
        "* np.sum(누구) - 누구의 모든 요소의 합을 반환"
      ],
      "metadata": {
        "id": "vJIrJAOzkyAo"
      }
    },
    {
      "cell_type": "code",
      "source": [
        "# Compute sum of all elements in x\n",
        "z = np.sum(x)\n",
        "print(z)"
      ],
      "metadata": {
        "id": "Y8CGj5OFW6cx",
        "colab": {
          "base_uri": "https://localhost:8080/"
        },
        "outputId": "6a1d2c14-10fc-4f7d-dc60-e8a5f0c1a10b"
      },
      "execution_count": 4,
      "outputs": [
        {
          "output_type": "stream",
          "name": "stdout",
          "text": [
            "10.0\n"
          ]
        }
      ]
    },
    {
      "cell_type": "markdown",
      "source": [
        "* np.sum(누구, axis=어디) - 누구의 axis에 해당하는 모든 요소의 합을 반환 (column -> axis 0, row -> axis 1)"
      ],
      "metadata": {
        "id": "lqplOO35lNeY"
      }
    },
    {
      "cell_type": "code",
      "source": [
        "# Compute sum of each column in x;\n",
        "z = np.sum(x, axis=0) # column -> axis 0, row -> axis 1\n",
        "print(z)"
      ],
      "metadata": {
        "id": "5Any9SqRW6ey",
        "colab": {
          "base_uri": "https://localhost:8080/"
        },
        "outputId": "5e6c11e1-6f0b-40ca-ec72-9a759d896d39"
      },
      "execution_count": 9,
      "outputs": [
        {
          "output_type": "stream",
          "name": "stdout",
          "text": [
            "[4. 6.]\n"
          ]
        }
      ]
    },
    {
      "cell_type": "code",
      "source": [
        "# Compute sum of each row in x\n",
        "z = np.sum(x, axis=1)\n",
        "print(z)"
      ],
      "metadata": {
        "id": "Uwazhe_BW6hU",
        "colab": {
          "base_uri": "https://localhost:8080/"
        },
        "outputId": "ec77451b-c96c-4ca7-c5c9-dbcdfc4b8f66"
      },
      "execution_count": 8,
      "outputs": [
        {
          "output_type": "stream",
          "name": "stdout",
          "text": [
            "[3. 7.]\n"
          ]
        }
      ]
    },
    {
      "cell_type": "markdown",
      "source": [
        "### Broadcasting (다른 차원 행렬끼리의 연산)\n",
        "\n",
        "The term **broadcasting** refers to the ability of NumPy to treat arrays with different dimensions during arithmetic operations."
      ],
      "metadata": {
        "id": "7gR4sxvXS_N8"
      }
    },
    {
      "cell_type": "code",
      "source": [
        "# a in (4 x 3) np.ndarray\n",
        "# b in (1 x 3) np.ndarray\n",
        "a = np.array([[0.0, 0.0, 0.0,],\n",
        "              [10.0, 10.0, 10.0],\n",
        "              [20.0, 20.0, 20.0],\n",
        "              [30.0, 30.0, 30.0]])\n",
        "\n",
        "b = np.array([1.0, 2.0, 3.0])\n",
        "\n",
        "print(a+b)"
      ],
      "metadata": {
        "id": "ux2s3U0eHNmZ",
        "colab": {
          "base_uri": "https://localhost:8080/"
        },
        "outputId": "fd6342a5-ee1a-4c46-8748-6b2d80599b04"
      },
      "execution_count": null,
      "outputs": [
        {
          "output_type": "stream",
          "name": "stdout",
          "text": [
            "[[ 1.  2.  3.]\n",
            " [11. 12. 13.]\n",
            " [21. 22. 23.]\n",
            " [31. 32. 33.]]\n"
          ]
        }
      ]
    },
    {
      "cell_type": "code",
      "source": [
        "x = np.array([[1,2,3],\n",
        "              [4,5,6],\n",
        "              [7,8,9],\n",
        "              [10, 11, 12]])\n",
        "v = np.array([1, 0, 1])\n",
        "y = np.empty_like(x)\n",
        "\n",
        "# Add the vector v to each row of the matrix x with an explicit loop\n",
        "for i in range(4):\n",
        "    y[i, :] = x[i, :] + v\n",
        "print(y)"
      ],
      "metadata": {
        "id": "5pcHr8sHW6jz",
        "colab": {
          "base_uri": "https://localhost:8080/"
        },
        "outputId": "2c39690e-978f-446c-fd39-1cce8bc732ff"
      },
      "execution_count": null,
      "outputs": [
        {
          "output_type": "stream",
          "name": "stdout",
          "text": [
            "[[ 2  2  4]\n",
            " [ 5  5  7]\n",
            " [ 8  8 10]\n",
            " [11 11 13]]\n"
          ]
        }
      ]
    },
    {
      "cell_type": "code",
      "source": [
        "# Add the vector v to each row of the matrix x with stacking v multiple times (tile)\n",
        "vv = np.tile(v, (4, 1))\n",
        "print(vv)\n",
        "\n",
        "y = x + vv\n",
        "print(y)"
      ],
      "metadata": {
        "id": "10QBFaiEW6mU",
        "colab": {
          "base_uri": "https://localhost:8080/"
        },
        "outputId": "a5340a8a-c4cf-430c-e475-aa9df3ca0962"
      },
      "execution_count": null,
      "outputs": [
        {
          "output_type": "stream",
          "name": "stdout",
          "text": [
            "[[1 0 1]\n",
            " [1 0 1]\n",
            " [1 0 1]\n",
            " [1 0 1]]\n",
            "[[ 2  2  4]\n",
            " [ 5  5  7]\n",
            " [ 8  8 10]\n",
            " [11 11 13]]\n"
          ]
        }
      ]
    },
    {
      "cell_type": "code",
      "source": [
        "# Add the vector v to each row of the matrix x with broadcasting\n",
        "y = x + v\n",
        "print(y)"
      ],
      "metadata": {
        "id": "hrWYVDPbW6ok",
        "colab": {
          "base_uri": "https://localhost:8080/"
        },
        "outputId": "528b080f-cb5e-413f-88f3-891f953f635b"
      },
      "execution_count": null,
      "outputs": [
        {
          "output_type": "stream",
          "name": "stdout",
          "text": [
            "[[ 2  2  4]\n",
            " [ 5  5  7]\n",
            " [ 8  8 10]\n",
            " [11 11 13]]\n"
          ]
        }
      ]
    },
    {
      "cell_type": "code",
      "source": [
        "# Multiply matrix x by a constant 2:\n",
        "z = x * 2\n",
        "print(z)"
      ],
      "metadata": {
        "id": "CTK4_gelW6qr",
        "colab": {
          "base_uri": "https://localhost:8080/"
        },
        "outputId": "a7f35fc4-bc18-4918-fd2b-c9acb3eb6cba"
      },
      "execution_count": null,
      "outputs": [
        {
          "output_type": "stream",
          "name": "stdout",
          "text": [
            "[[ 2  4  6]\n",
            " [ 8 10 12]\n",
            " [14 16 18]\n",
            " [20 22 24]]\n"
          ]
        }
      ]
    },
    {
      "cell_type": "markdown",
      "source": [
        "### Numpy Array as Data\n",
        "\n",
        "* Data type: scalar, vector, matrix, tensor, and so on\n"
      ],
      "metadata": {
        "id": "eoX7c6_nq7Em"
      }
    },
    {
      "cell_type": "code",
      "source": [
        "# Feature vector example 1\n",
        "\n",
        "from sklearn.datasets import load_iris\n",
        "\n",
        "iris = load_iris()\n",
        "# print(iris.data)\n",
        "print(iris.data[0, :])"
      ],
      "metadata": {
        "id": "UwV0NBXOq7fy",
        "colab": {
          "base_uri": "https://localhost:8080/"
        },
        "outputId": "d7e92124-4bc1-422e-b430-8706bfbe0ede"
      },
      "execution_count": null,
      "outputs": [
        {
          "output_type": "stream",
          "name": "stdout",
          "text": [
            "[5.1 3.5 1.4 0.2]\n"
          ]
        }
      ]
    },
    {
      "cell_type": "code",
      "source": [
        "# Feature vector example 2\n",
        "import matplotlib.pyplot as plt\n",
        "from sklearn.datasets import load_digits\n",
        "\n",
        "digits = load_digits()  # 데이터 로드\n",
        "print(digits.data.shape)\n",
        "samples = [0, 10, 20, 30, 1, 11, 21, 31]  # 선택된 이미지 번호, index information\n",
        "\n",
        "d = []\n",
        "for i in range(len(samples)):\n",
        "    d.append(digits.images[i])\n",
        "\n",
        "plt.figure(figsize=(8, 2))\n",
        "for i in range(len(samples)):\n",
        "    plt.subplot(1, len(samples), i + 1)\n",
        "    plt.imshow(d[i], interpolation='nearest', cmap=plt.cm.bone_r)\n",
        "    plt.grid(False); plt.xticks([]); plt.yticks([])\n",
        "    plt.title(\"image {}\".format(i + 1))\n",
        "plt.suptitle(\"숫자 0과 1 이미지\")\n",
        "plt.tight_layout()\n",
        "plt.show()"
      ],
      "metadata": {
        "id": "apnLVhxjq7mg",
        "colab": {
          "base_uri": "https://localhost:8080/",
          "height": 665
        },
        "outputId": "3a3cb079-c413-4b04-d0ad-6a1fc076e4d2"
      },
      "execution_count": null,
      "outputs": [
        {
          "output_type": "stream",
          "name": "stdout",
          "text": [
            "(1797, 64)\n"
          ]
        },
        {
          "output_type": "stream",
          "name": "stderr",
          "text": [
            "<ipython-input-18-a25306d0af5e>:20: UserWarning: Glyph 49707 (\\N{HANGUL SYLLABLE SUS}) missing from font(s) DejaVu Sans.\n",
            "  plt.tight_layout()\n",
            "<ipython-input-18-a25306d0af5e>:20: UserWarning: Glyph 51088 (\\N{HANGUL SYLLABLE JA}) missing from font(s) DejaVu Sans.\n",
            "  plt.tight_layout()\n",
            "<ipython-input-18-a25306d0af5e>:20: UserWarning: Glyph 44284 (\\N{HANGUL SYLLABLE GWA}) missing from font(s) DejaVu Sans.\n",
            "  plt.tight_layout()\n",
            "<ipython-input-18-a25306d0af5e>:20: UserWarning: Glyph 51060 (\\N{HANGUL SYLLABLE I}) missing from font(s) DejaVu Sans.\n",
            "  plt.tight_layout()\n",
            "<ipython-input-18-a25306d0af5e>:20: UserWarning: Glyph 48120 (\\N{HANGUL SYLLABLE MI}) missing from font(s) DejaVu Sans.\n",
            "  plt.tight_layout()\n",
            "<ipython-input-18-a25306d0af5e>:20: UserWarning: Glyph 51648 (\\N{HANGUL SYLLABLE JI}) missing from font(s) DejaVu Sans.\n",
            "  plt.tight_layout()\n",
            "/usr/local/lib/python3.11/dist-packages/IPython/core/pylabtools.py:151: UserWarning: Glyph 49707 (\\N{HANGUL SYLLABLE SUS}) missing from font(s) DejaVu Sans.\n",
            "  fig.canvas.print_figure(bytes_io, **kw)\n",
            "/usr/local/lib/python3.11/dist-packages/IPython/core/pylabtools.py:151: UserWarning: Glyph 51088 (\\N{HANGUL SYLLABLE JA}) missing from font(s) DejaVu Sans.\n",
            "  fig.canvas.print_figure(bytes_io, **kw)\n",
            "/usr/local/lib/python3.11/dist-packages/IPython/core/pylabtools.py:151: UserWarning: Glyph 44284 (\\N{HANGUL SYLLABLE GWA}) missing from font(s) DejaVu Sans.\n",
            "  fig.canvas.print_figure(bytes_io, **kw)\n",
            "/usr/local/lib/python3.11/dist-packages/IPython/core/pylabtools.py:151: UserWarning: Glyph 51060 (\\N{HANGUL SYLLABLE I}) missing from font(s) DejaVu Sans.\n",
            "  fig.canvas.print_figure(bytes_io, **kw)\n",
            "/usr/local/lib/python3.11/dist-packages/IPython/core/pylabtools.py:151: UserWarning: Glyph 48120 (\\N{HANGUL SYLLABLE MI}) missing from font(s) DejaVu Sans.\n",
            "  fig.canvas.print_figure(bytes_io, **kw)\n",
            "/usr/local/lib/python3.11/dist-packages/IPython/core/pylabtools.py:151: UserWarning: Glyph 51648 (\\N{HANGUL SYLLABLE JI}) missing from font(s) DejaVu Sans.\n",
            "  fig.canvas.print_figure(bytes_io, **kw)\n"
          ]
        },
        {
          "output_type": "display_data",
          "data": {
            "text/plain": [
              "<Figure size 800x200 with 8 Axes>"
            ],
            "image/png": "[encoded data removed]"
          },
          "metadata": {}
        }
      ]
    },
    {
      "cell_type": "markdown",
      "source": [
        "### Image processing with Python, NumPy"
      ],
      "metadata": {
        "id": "mVVQVnjAAeyX"
      }
    },
    {
      "cell_type": "code",
      "source": [
        "from PIL import Image # Python Imaging Library\n",
        "import numpy as np\n",
        "import scipy.misc\n",
        "import cv2\n",
        "\n",
        "# How to read an image file as ndarray\n",
        "# image_url = \"https://github.com/nkmk/python-snippets/blob/1dd9bd0b89a4465af229cbbfc2a1f8e3cb26d78c/notebook/data/src/lena.jpg\"\n",
        "\n",
        "# Download image and move it to the file (see left categories)\n",
        "im = Image.open('./lena.jpg')\n",
        "print(type(im))\n",
        "\n",
        "# Convert Image to numpy.ndarray\n",
        "im = np.array(im)\n",
        "\n",
        "print(im.shape)\n",
        "print(im.dtype)\n",
        "print(im.shape)"
      ],
      "metadata": {
        "id": "RaCDPnSNAhMR",
        "colab": {
          "base_uri": "https://localhost:8080/"
        },
        "outputId": "5ff7bfc5-9a57-46c1-b00d-3000149f6bbc"
      },
      "execution_count": null,
      "outputs": [
        {
          "output_type": "stream",
          "name": "stdout",
          "text": [
            "<class 'PIL.JpegImagePlugin.JpegImageFile'>\n",
            "(225, 400, 3)\n",
            "uint8\n",
            "(225, 400, 3)\n"
          ]
        }
      ]
    },
    {
      "cell_type": "code",
      "source": [
        "# Convert image to grayscale\n",
        "im = Image.open('./lena.jpg').convert('L') # RGB -> gray, type -> PIL\n",
        "\n",
        "im_gray = np.array(im) # PIL -> np\n",
        "print(im_gray.shape)\n",
        "\n",
        "pil_img = Image.fromarray(im_gray)\n",
        "pil_img.save('./lena_gray.jpg')"
      ],
      "metadata": {
        "id": "hAMBdHXNAhJ7",
        "colab": {
          "base_uri": "https://localhost:8080/"
        },
        "outputId": "8ac2ba22-330e-4ef8-d816-206eb6bb32ca"
      },
      "execution_count": null,
      "outputs": [
        {
          "output_type": "stream",
          "name": "stdout",
          "text": [
            "(225, 400)\n"
          ]
        }
      ]
    },
    {
      "cell_type": "code",
      "source": [
        "# Change the value of the element (pixel)\n",
        "print(im.flags.writeable)\n",
        "\n",
        "print(im[0, 0, 0])\n",
        "\n",
        "im[0, 0, 0] = 0\n",
        "\n",
        "print(im[0, 0, 0])"
      ],
      "metadata": {
        "id": "2ok374peAhHw"
      },
      "execution_count": null,
      "outputs": []
    },
    {
      "cell_type": "code",
      "source": [
        "# Generation of single color image and concatenation\n",
        "im = Image.open('./lena.jpg')\n",
        "im = np.array(im)\n",
        "\n",
        "# Make green and blue channel values to zero\n",
        "im_R = im.copy()\n",
        "im_R[:, :, (1, 2)] = 0 # (1, 2) -> G, B channels -> remain R channel\n",
        "\n",
        "# Make red and blue channel values to zero\n",
        "im_G = im.copy()\n",
        "im_G\n",
        "\n",
        "# Make red and green channel values to zero\n",
        "im_B = im.copy()\n",
        "im_B\n",
        "\n",
        "# Concatenate each images along the axis 1\n",
        "im_RGB =\n",
        "# im_RGB = np.hstack((im_R, im_G, im_B))\n",
        "# im_RGB = np.c_['1', im_R, im_G, im_B]\n",
        "\n",
        "# Save image\n",
        "pil_img = Image.fromarray(im_RGB)\n",
        "pil_img.save('./lena_numpy_split_color.jpg')\n"
      ],
      "metadata": {
        "id": "fwBwUBu1AhFa"
      },
      "execution_count": null,
      "outputs": []
    },
    {
      "cell_type": "code",
      "source": [
        "# Negative-positive inversion (invert pixel value)\n",
        "im = np.array(Image.open('./lena.jpg').resize((256, 256)))\n",
        "\n",
        "im_i =\n",
        "\n",
        "Image.fromarray(im_i).save('./lena_numpy_inverse.jpg')"
      ],
      "metadata": {
        "id": "7f-4ImR5AhDI"
      },
      "execution_count": null,
      "outputs": []
    },
    {
      "cell_type": "code",
      "source": [
        "# Color reduction (8 bits -> 2^8 = 256)\n",
        "# single pixel can have a range in [0, 255]\n",
        "im = np.array(Image.open('./lena.jpg').resize((256, 256)))\n",
        "\n",
        "im_32 = im // 32 * 32 # im -> intensity of image, int(254/32) * 32 = int(7.93) * 32 = 224\n",
        "# pixel having intensity in [224, 255] will be assigned to 224\n",
        "# pixel having intenxity in [192, 223] will be assigned to 192\n",
        "# quantize!\n",
        "im_128 = im // 128 * 128\n",
        "\n",
        "print(np.unique(im), len(np.unique(im)))\n",
        "print(np.unique(im_32), len(np.unique(im_32)))\n",
        "print(np.unique(im_128), len(np.unique(im_128)))\n",
        "# [0, 128]\n",
        "# [0, 0, 0], [0, 0, 128], [0, 128, 0], ... [128, 128, 128]\n",
        "\n",
        "im_dec = np.concatenate((im, im_32, im_128), axis=1)\n",
        "\n",
        "Image.fromarray(im_dec).save('./lena_numpy_dec_color.jpg')"
      ],
      "metadata": {
        "id": "EQYtbRXSAhA5",
        "colab": {
          "base_uri": "https://localhost:8080/"
        },
        "outputId": "7be2d907-7c59-41b2-cf53-aab167e01212"
      },
      "execution_count": null,
      "outputs": [
        {
          "output_type": "stream",
          "name": "stdout",
          "text": [
            "[  0   1   2   3   4   5   6   7   8   9  10  11  12  13  14  15  16  17\n",
            "  18  19  20  21  22  23  24  25  26  27  28  29  30  31  32  33  34  35\n",
            "  36  37  38  39  40  41  42  43  44  45  46  47  48  49  50  51  52  53\n",
            "  54  55  56  57  58  59  60  61  62  63  64  65  66  67  68  69  70  71\n",
            "  72  73  74  75  76  77  78  79  80  81  82  83  84  85  86  87  88  89\n",
            "  90  91  92  93  94  95  96  97  98  99 100 101 102 103 104 105 106 107\n",
            " 108 109 110 111 112 113 114 115 116 117 118 119 120 121 122 123 124 125\n",
            " 126 127 128 129 130 131 132 133 134 135 136 137 138 139 140 141 142 143\n",
            " 144 145 146 147 148 149 150 151 152 153 154 155 156 157 158 159 160 161\n",
            " 162 163 164 165 166 167 168 169 170 171 172 173 174 175 176 177 178 179\n",
            " 180 181 182 183 184 185 186 187 188 189 190 191 192 193 194 195 196 197\n",
            " 198 199 200 201 202 203 204 205 206 207 208 209 210 211 212 213 214 215\n",
            " 216 217 218 219 220 221 222 223 224 225 226 227 228 229 230 231 232 233\n",
            " 234 235 236 237 238 239 240 241 242 243 244 245 246 247 248 249 250 251\n",
            " 252 253 254 255] 256\n",
            "[  0  32  64  96 128 160 192 224] 8\n",
            "[  0 128] 2\n"
          ]
        }
      ]
    },
    {
      "cell_type": "code",
      "source": [
        "# Trimming with slice\n",
        "m = np.array(Image.open('./lena.jpg'))\n",
        "print(im.shape)\n",
        "\n",
        "# Slice image with arbitrary scale\n",
        "im_trim1 = im[128:384, 128:384, :]\n",
        "print(im_trim1.shape)\n",
        "\n",
        "Image.fromarray(im_trim1).save('./lena_numpy_trim.jpg')"
      ],
      "metadata": {
        "id": "hdyaKqWvAg-p",
        "colab": {
          "base_uri": "https://localhost:8080/"
        },
        "outputId": "3275199f-def4-4bd3-9ae8-1e30807d43e3"
      },
      "execution_count": null,
      "outputs": [
        {
          "output_type": "stream",
          "name": "stdout",
          "text": [
            "(256, 256, 3)\n",
            "(128, 128, 3)\n"
          ]
        }
      ]
    }
  ]
}
